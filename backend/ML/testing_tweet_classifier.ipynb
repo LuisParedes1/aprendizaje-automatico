{
 "cells": [
  {
   "cell_type": "markdown",
   "id": "b6f18646-2157-465f-8535-a00cd68b19c7",
   "metadata": {},
   "source": [
    "A partir del modelo obtenido en el [Twitter Emotional Classifier](https://colab.research.google.com/drive/1hlwWPb5bnSHSYBBX_uSYH23C23svkNZo?usp=sharing), evaluamos con nuevos Tweets"
   ]
  },
  {
   "cell_type": "code",
   "execution_count": 1,
   "id": "cc6374ba-a371-4509-8799-accc30dbd600",
   "metadata": {},
   "outputs": [],
   "source": [
    "import pickle\n",
    "\n",
    "with open('./models/logistic_regression_model.pkl', 'rb') as file:\n",
    "    model = pickle.load(file)\n",
    "\n",
    "with open('tfidf_vectorizer.pkl', 'rb') as f:\n",
    "    vectorizer = pickle.load(f)"
   ]
  },
  {
   "cell_type": "markdown",
   "id": "419be2b8-083a-417c-b236-26688957e3da",
   "metadata": {},
   "source": [
    "Loading new tweets, cleaning them and vectorizing them"
   ]
  },
  {
   "cell_type": "code",
   "execution_count": 2,
   "id": "63180c8c-3571-4539-81da-09dfe32030f6",
   "metadata": {},
   "outputs": [
    {
     "name": "stderr",
     "output_type": "stream",
     "text": [
      "[nltk_data] Downloading package stopwords to /Users/luis/nltk_data...\n",
      "[nltk_data]   Package stopwords is already up-to-date!\n"
     ]
    }
   ],
   "source": [
    "import re\n",
    "from nltk.corpus import stopwords\n",
    "import nltk\n",
    "\n",
    "nltk.download('stopwords')\n",
    "stopwords_set = set(stopwords.words('english'))\n",
    "\n",
    "def preprocess_text(text):\n",
    "    if not isinstance(text, str):\n",
    "        text = \"\"\n",
    "    text = re.sub(r\"http\\S+|@\\w+|#\\w+|[^A-Za-z\\s]\", \"\", text.lower())\n",
    "    return ' '.join([word for word in text.split() if word not in stopwords_set])\n",
    "\n",
    "# New tweets\n",
    "tweets_to_predict = [\n",
    "    \"I'm so happy today, everything is going great!\",\n",
    "    \"Feeling really sad and down. I can't focus on anything.\",\n",
    "    \"What an amazing day! I love it!\",\n",
    "    \"I'm so frustrated with this situation!\",\n",
    "    \"This is hilarious! Can't stop laughing.\"\n",
    "]\n",
    "\n",
    "tweets_to_predict_clean = [preprocess_text(tweet) for tweet in tweets_to_predict]\n",
    "tweets_to_predict_vectorized = vectorizer.transform(tweets_to_predict_clean)"
   ]
  },
  {
   "cell_type": "markdown",
   "id": "c0e093f9-48e7-4d1e-9665-36c9aaffe955",
   "metadata": {},
   "source": [
    "Predicting the new tweets"
   ]
  },
  {
   "cell_type": "code",
   "execution_count": 3,
   "id": "73e6977b-b352-4f28-99d7-3e781d016e6e",
   "metadata": {},
   "outputs": [
    {
     "name": "stdout",
     "output_type": "stream",
     "text": [
      "Tweet: I'm so happy today, everything is going great!\n",
      "Predicted Emotion: joy\n",
      "\n",
      "Tweet: Feeling really sad and down. I can't focus on anything.\n",
      "Predicted Emotion: sadness\n",
      "\n",
      "Tweet: What an amazing day! I love it!\n",
      "Predicted Emotion: surprise\n",
      "\n",
      "Tweet: I'm so frustrated with this situation!\n",
      "Predicted Emotion: anger\n",
      "\n",
      "Tweet: This is hilarious! Can't stop laughing.\n",
      "Predicted Emotion: sadness\n",
      "\n"
     ]
    }
   ],
   "source": [
    "emotion_map = {0: 'sadness', 1: 'joy', 2: 'love', 3: 'anger', 4: 'fear', 5: 'surprise'}\n",
    "predictions = model.predict(tweets_to_predict_vectorized)\n",
    "\n",
    "# Map predictions to the emotion labels (assuming emotion_map is defined)\n",
    "predicted_emotions = [emotion_map.get(label, \"Unknown\") for label in predictions]\n",
    "\n",
    "# Output the results\n",
    "for tweet, emotion in zip(tweets_to_predict, predicted_emotions):\n",
    "    print(f\"Tweet: {tweet}\\nPredicted Emotion: {emotion}\\n\")"
   ]
  }
 ],
 "metadata": {
  "kernelspec": {
   "display_name": "Python 3 (ipykernel)",
   "language": "python",
   "name": "python3"
  },
  "language_info": {
   "codemirror_mode": {
    "name": "ipython",
    "version": 3
   },
   "file_extension": ".py",
   "mimetype": "text/x-python",
   "name": "python",
   "nbconvert_exporter": "python",
   "pygments_lexer": "ipython3",
   "version": "3.10.12"
  }
 },
 "nbformat": 4,
 "nbformat_minor": 5
}
